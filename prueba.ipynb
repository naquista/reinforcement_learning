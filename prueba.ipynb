{
 "cells": [
  {
   "cell_type": "markdown",
   "metadata": {},
   "source": [
    "<video controls width=\"600\">\n",
    "  <source src=\"\" type=\"video/mp4\">\n",
    "  Tu navegador no soporta videos HTML5.\n",
    "</video>\n"
   ]
  },
  {
   "cell_type": "markdown",
   "metadata": {},
   "source": [
    "<video controls width=\"600\">\n",
    "  <source src=\"./figuras/a.mp4\" type=\"video/mp4\">\n",
    "  Tu navegador no soporta videos HTML5.http://users.df.uba.ar/pablob/datos/grillaSinObstaculos.mp4\n",
    "</video>\n",
    "\n",
    "\n"
   ]
  },
  {
   "cell_type": "code",
   "execution_count": null,
   "metadata": {},
   "outputs": [],
   "source": [
    "from IPython.display import HTML\n",
    "\n",
    "HTML('''\n",
    "<video controls width=\"600\">\n",
    "  <source src=\"./figuras/a.mp4\" type=\"video/mp4\">\n",
    "  Tu navegador no soporta videos HTML5.\n",
    "</video>\n",
    "''')"
   ]
  }
 ],
 "metadata": {
  "colab": {
   "collapsed_sections": [
    "SD-FSSuKoIJF",
    "uUUkScRxoIJQ"
   ],
   "include_colab_link": true,
   "name": "stable_baselines.ipynb",
   "provenance": [],
   "toc_visible": true
  },
  "kernelspec": {
   "display_name": "aprendizajeporrefuerzos-7kOLcKCl-py3.9",
   "language": "python",
   "name": "python3"
  },
  "language_info": {
   "codemirror_mode": {
    "name": "ipython",
    "version": 3
   },
   "file_extension": ".py",
   "mimetype": "text/x-python",
   "name": "python",
   "nbconvert_exporter": "python",
   "pygments_lexer": "ipython3",
   "version": "3.8.5"
  }
 },
 "nbformat": 4,
 "nbformat_minor": 4
}
